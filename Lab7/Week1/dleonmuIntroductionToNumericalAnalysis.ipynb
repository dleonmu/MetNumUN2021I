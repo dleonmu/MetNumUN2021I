{
  "nbformat": 4,
  "nbformat_minor": 0,
  "metadata": {
    "kernelspec": {
      "display_name": "Python 3",
      "language": "python",
      "name": "python3"
    },
    "language_info": {
      "codemirror_mode": {
        "name": "ipython",
        "version": 3
      },
      "file_extension": ".py",
      "mimetype": "text/x-python",
      "name": "python",
      "nbconvert_exporter": "python",
      "pygments_lexer": "ipython3",
      "version": "3.5.2"
    },
    "colab": {
      "name": "dleonmuIntroductionToNumericalAnalysis.ipynb",
      "provenance": [],
      "collapsed_sections": []
    }
  },
  "cells": [
    {
      "cell_type": "markdown",
      "metadata": {
        "id": "MMx3wTjI8x7I"
      },
      "source": [
        "## Solve a quadratic equation, $x^2 + b x + c = 0$.\n",
        "\n",
        "\n",
        "Write a function which receives $b$ and $c$, the coefficients of a monic quadratic polynomial, $x^2 + b x + c$, and returns the pair of its roots. Your function should always return two values, even if quadratic has a double root.\n",
        "\n",
        "For example, given a quadratic $x^2 - 2x + 1$, your function should return a pair of $(1, 1)$. Of course, in floating point, your answers may differ from an exact unity.\n",
        "\n",
        "Your function also must correctly handle complex roots (to this end, you might need the `cmath` module from the standard library)."
      ]
    },
    {
      "cell_type": "code",
      "metadata": {
        "collapsed": true,
        "colab": {
          "base_uri": "https://localhost:8080/"
        },
        "id": "x11mtR2f8x7M",
        "outputId": "94699cba-8ada-45d9-9ef6-2712fa26c561"
      },
      "source": [
        "import cmath\n",
        "def solve_quad(b, c):\n",
        "  \"\"\"Solve a quadratic equation, x**2 + bx + c = 0.\n",
        "\n",
        "  Parameters\n",
        "  ----------\n",
        "  b, c : float\n",
        "    Coefficients\n",
        "    \n",
        "  Returns\n",
        "  -------\n",
        "  x1, x2 : float or complex\n",
        "    Roots.\n",
        "    \"\"\"\n",
        "  # calculate the discriminant\n",
        "  d = (b**2) - (4*c)\n",
        "\n",
        "  # find two solutions\n",
        "  x1 = (-b-cmath.sqrt(d))/(2)\n",
        "  x2 = (-b+cmath.sqrt(d))/(2)\n",
        "\n",
        "  sqd = b**2 - (4*c)\n",
        "\n",
        "  if (sqd == b*b):\n",
        "    x1 = -b\n",
        "    x2 = c/x1\n",
        "  else:\n",
        "    if (sqd>=0):\n",
        "      det = sqd**(1/2)\n",
        "      x1 = (-b + det)/2\n",
        "      x2 = (-b - det)/2\n",
        "    else:\n",
        "      det = sqd**(1/2)\n",
        "      x1 = complex(-b/2 + det/2)\n",
        "      x2 = complex(-b/2 - det/2)\n",
        "  return x1,x2\n",
        "\n",
        "\n",
        "print(solve_quad(5,6))"
      ],
      "execution_count": 5,
      "outputs": [
        {
          "output_type": "stream",
          "text": [
            "(-2.0, -3.0)\n"
          ],
          "name": "stdout"
        }
      ]
    },
    {
      "cell_type": "markdown",
      "metadata": {
        "id": "AsoddyYo8x7M"
      },
      "source": [
        "Test the your function on several examples against a calculation by hand. Once you're sure that your function works, try these five test cases below. \n",
        "\n",
        "Note that the last two test cases are special: they test whether your function handles extreme cases where a too simple approach is prone to a catastrophic cancellation. Make sure your function passes all five tests.\n",
        "\n",
        "This exercise is graded, each test case contributes a 20% of the grade. "
      ]
    },
    {
      "cell_type": "code",
      "metadata": {
        "collapsed": true,
        "id": "LjHkEmgH8x7M"
      },
      "source": [
        "from numpy import allclose"
      ],
      "execution_count": 3,
      "outputs": []
    },
    {
      "cell_type": "code",
      "metadata": {
        "collapsed": true,
        "id": "2HWjIej08x7M"
      },
      "source": [
        "variants = [{'b': 4.0, 'c': 3.0},\n",
        "            {'b': 2.0, 'c': 1.0},\n",
        "            {'b': 0.5, 'c': 4.0},\n",
        "            {'b': 110, 'c': 3.0},\n",
        "            {'b': 110, 'c': 4.0},]"
      ],
      "execution_count": 2,
      "outputs": []
    },
    {
      "cell_type": "code",
      "metadata": {
        "collapsed": true,
        "colab": {
          "base_uri": "https://localhost:8080/"
        },
        "id": "kNHFYj3m8x7N",
        "outputId": "ad5b05c2-81de-4b36-a73c-1d424c6e37fc"
      },
      "source": [
        "for var in variants:\n",
        "    x1, x2 = solve_quad(**var)\n",
        "    print(allclose(x1*x2, var['c']))"
      ],
      "execution_count": 6,
      "outputs": [
        {
          "output_type": "stream",
          "text": [
            "True\n",
            "True\n",
            "True\n",
            "True\n",
            "True\n"
          ],
          "name": "stdout"
        }
      ]
    }
  ]
}
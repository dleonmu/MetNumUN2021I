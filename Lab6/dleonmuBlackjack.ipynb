{
  "nbformat": 4,
  "nbformat_minor": 0,
  "metadata": {
    "colab": {
      "name": "dleonmuBlackjack.ipynb",
      "provenance": [],
      "collapsed_sections": []
    },
    "kernelspec": {
      "name": "python3",
      "display_name": "Python 3"
    }
  },
  "cells": [
    {
      "cell_type": "markdown",
      "metadata": {
        "id": "TNtd_VIYtQE2"
      },
      "source": [
        "###Monte Carlo – 21 Blackjack"
      ]
    },
    {
      "cell_type": "markdown",
      "metadata": {
        "id": "3HHjE68QLY-6"
      },
      "source": [
        "####1. Estimate the probability of getting a 21, the average number of cards required to complete 21 and plot the experimental distribution of the number of card required to complete 21 drawing cards sequentially from a shuffled deck"
      ]
    },
    {
      "cell_type": "code",
      "metadata": {
        "id": "IRqEVOsGLpJn"
      },
      "source": [
        "import random\n",
        "import matplotlib.pyplot as plt"
      ],
      "execution_count": 1,
      "outputs": []
    },
    {
      "cell_type": "code",
      "metadata": {
        "id": "idxlBr-NMb08"
      },
      "source": [
        "def filldeck(n):\n",
        "  deck = []\n",
        "  for x in range(4):\n",
        "    for i in range(n):\n",
        "      deck.append(i+1)\n",
        "  return deck"
      ],
      "execution_count": 2,
      "outputs": []
    },
    {
      "cell_type": "code",
      "metadata": {
        "id": "-UTPt6u9XFE4"
      },
      "source": [
        "def deckgen(n,t):\n",
        "  deck = []\n",
        "  if t == 0:\n",
        "    for i in range(n):\n",
        "      deck.append(0)\n",
        "  else:\n",
        "    for i in range(n):\n",
        "      deck.append(i+1)\n",
        "  return deck"
      ],
      "execution_count": 3,
      "outputs": []
    },
    {
      "cell_type": "code",
      "metadata": {
        "id": "YazT5oevYCKk"
      },
      "source": [
        "def montecarlo_simulation(n,deck_size):\n",
        "  win= 0\n",
        "  card_values = deckgen(deck_size,1)\n",
        "  card_numbers = deckgen(deck_size,0)\n",
        "  card_average = 0\n",
        "  for i in range(n):\n",
        "    card_number = 0\n",
        "    deck = filldeck(deck_size)\n",
        "    picked_cards = []\n",
        "    while(sum(picked_cards)<21):\n",
        "      card_number +=1\n",
        "      card = random.choice(deck)\n",
        "      picked_cards.append(card)\n",
        "      deck.remove(card)\n",
        "    if(sum(picked_cards)==21):\n",
        "      win+=1\n",
        "      card_numbers[card_number-1] += 1\n",
        "      card_average += card_number\n",
        "  print('Probability of getting a 21: ', win/n)\n",
        "  print('Card numbers ',card_numbers)\n",
        "  print('Average number of cards: ', card_average/win)\n",
        "  plt.bar(card_values,card_numbers);"
      ],
      "execution_count": 4,
      "outputs": []
    },
    {
      "cell_type": "markdown",
      "metadata": {
        "id": "ynDvrL_Lsu7W"
      },
      "source": [
        "#####With a Spanish 48-card deck:"
      ]
    },
    {
      "cell_type": "code",
      "metadata": {
        "colab": {
          "base_uri": "https://localhost:8080/",
          "height": 316
        },
        "id": "c4EPgGX9YJEg",
        "outputId": "c49f9132-7fe6-4154-a639-b7506d34c06e"
      },
      "source": [
        "montecarlo_simulation(10000000,12)"
      ],
      "execution_count": 5,
      "outputs": [
        {
          "output_type": "stream",
          "text": [
            "Probability of getting a 21:  0.175\n",
            "Card numbers  [0, 35, 66, 58, 11, 4, 1, 0, 0, 0, 0, 0]\n",
            "Average number of cards:  3.3485714285714288\n"
          ],
          "name": "stdout"
        },
        {
          "output_type": "display_data",
          "data": {
            "image/png": "[encoded data removed]",
            "text/plain": [
              "<Figure size 432x288 with 1 Axes>"
            ]
          },
          "metadata": {
            "tags": [],
            "needs_background": "light"
          }
        }
      ]
    },
    {
      "cell_type": "markdown",
      "metadata": {
        "id": "ZfismtTCs0J1"
      },
      "source": [
        "#####With an American 52-card deck:"
      ]
    },
    {
      "cell_type": "code",
      "metadata": {
        "colab": {
          "base_uri": "https://localhost:8080/",
          "height": 316
        },
        "id": "XsCzo0JyL4e5",
        "outputId": "1ec0e88f-085a-4ddf-c246-af17cc86a2ff"
      },
      "source": [
        "montecarlo_simulation(10000000,13)"
      ],
      "execution_count": 6,
      "outputs": [
        {
          "output_type": "stream",
          "text": [
            "Probability of getting a 21:  0.1445798\n",
            "Card numbers  [0, 361957, 586947, 352569, 116480, 24204, 3331, 300, 10, 0, 0, 0, 0]\n",
            "Average number of cards:  3.2151531541750646\n"
          ],
          "name": "stdout"
        },
        {
          "output_type": "display_data",
          "data": {
            "image/png": "[encoded data removed]",
            "text/plain": [
              "<Figure size 432x288 with 1 Axes>"
            ]
          },
          "metadata": {
            "tags": [],
            "needs_background": "light"
          }
        }
      ]
    },
    {
      "cell_type": "markdown",
      "metadata": {
        "id": "iQ6N9H_2Vukx"
      },
      "source": [
        "####2. Estimate the probability of getting a 21, the average total number of cards required to complete 21 and plot the experimental distribution of the number of cards required to complete 21; assuming that you have in your hand the cards [7,7,5] and the remaining deck has n/2 cards for the regular Spanish 48-card deck and the Poker 52-card decks. You can pick the n/2 cards in the remaining deck in whatever way you choose but with restriction that this has maximum two 7s and three 5, you have to keep the remaining deck fixed through the Montecarlo simulations, use 10 million simulations."
      ]
    },
    {
      "cell_type": "code",
      "metadata": {
        "id": "tefDwVZHaa-V"
      },
      "source": [
        "def fixdeck(deck):\n",
        "  n= len(deck)/2\n",
        "  for i in range(2):\n",
        "    deck.remove(7)\n",
        "  deck.remove(5)\n",
        "  while len(deck) > n:\n",
        "    deck.remove(random.choice(deck))\n",
        "  return deck"
      ],
      "execution_count": 7,
      "outputs": []
    },
    {
      "cell_type": "code",
      "metadata": {
        "id": "SM69RPCyV_uf"
      },
      "source": [
        "def fixed_montecarlo_simulation(n,deck_size):\n",
        "  win= 0\n",
        "  card_values = deckgen(deck_size,1)\n",
        "  card_numbers = deckgen(deck_size,0)\n",
        "  card_average = 0\n",
        "  for i in range(n):\n",
        "    card_number = 0\n",
        "    deck = filldeck(deck_size)\n",
        "    deck = fixdeck(deck)\n",
        "    picked_cards = [7,7,5]\n",
        "    while(sum(picked_cards)<21):\n",
        "      card_number +=1\n",
        "      card = random.choice(deck)\n",
        "      picked_cards.append(card)\n",
        "      deck.remove(card)\n",
        "    if(sum(picked_cards)==21):\n",
        "      win+=1\n",
        "      card_numbers[card_number-1] += 1\n",
        "      card_average += card_number\n",
        "  print('Probability of getting a 21: ', win/n)\n",
        "  print('Card numbers ',card_numbers)\n",
        "  print('Average number of cards: ', card_average/win)\n",
        "  plt.bar(card_values,card_numbers);"
      ],
      "execution_count": 8,
      "outputs": []
    },
    {
      "cell_type": "markdown",
      "metadata": {
        "id": "pSSnOl-bdYCa"
      },
      "source": [
        "#####With a Spanish 48-card deck:"
      ]
    },
    {
      "cell_type": "code",
      "metadata": {
        "colab": {
          "base_uri": "https://localhost:8080/",
          "height": 316
        },
        "id": "OudxKt4ndI9u",
        "outputId": "3c7aaefe-1150-4c92-fea6-8eee2f9f70d4"
      },
      "source": [
        "fixed_montecarlo_simulation(10000000,12)"
      ],
      "execution_count": 9,
      "outputs": [
        {
          "output_type": "stream",
          "text": [
            "Probability of getting a 21:  0.0948755\n",
            "Card numbers  [888227, 60528, 0, 0, 0, 0, 0, 0, 0, 0, 0, 0]\n",
            "Average number of cards:  1.063797292240884\n"
          ],
          "name": "stdout"
        },
        {
          "output_type": "display_data",
          "data": {
            "image/png": "[encoded data removed]",
            "text/plain": [
              "<Figure size 432x288 with 1 Axes>"
            ]
          },
          "metadata": {
            "tags": [],
            "needs_background": "light"
          }
        }
      ]
    },
    {
      "cell_type": "markdown",
      "metadata": {
        "id": "-xIIv8Sndi5R"
      },
      "source": [
        "#####With an American 52-card deck:"
      ]
    },
    {
      "cell_type": "code",
      "metadata": {
        "colab": {
          "base_uri": "https://localhost:8080/",
          "height": 316
        },
        "id": "zLbrqTPldqOJ",
        "outputId": "cf6587ff-d8d2-46f5-9afb-1011b920328f"
      },
      "source": [
        "fixed_montecarlo_simulation(10000000,13)"
      ],
      "execution_count": 10,
      "outputs": [
        {
          "output_type": "stream",
          "text": [
            "Probability of getting a 21:  0.0866837\n",
            "Card numbers  [816234, 50603, 0, 0, 0, 0, 0, 0, 0, 0, 0, 0, 0]\n",
            "Average number of cards:  1.0583766036752007\n"
          ],
          "name": "stdout"
        },
        {
          "output_type": "display_data",
          "data": {
            "image/png": "[encoded data removed]",
            "text/plain": [
              "<Figure size 432x288 with 1 Axes>"
            ]
          },
          "metadata": {
            "tags": [],
            "needs_background": "light"
          }
        }
      ]
    },
    {
      "cell_type": "markdown",
      "metadata": {
        "id": "a6TD0H0IeUfU"
      },
      "source": [
        "####3. Estimate and calculate analytically the probability of getting a 21, the average total number of cards required to complete 21 and the experimental distribution of the number of card required to complete 21; assuming that you have in your hand the cards [7,7,5] and the remaining deck has two possible sets of 8 cards for the regular Spanish 48-card deck and the Poker 52-card decks. The two possible remaining decks are a (hot deck) that contains four 1 cards and four 2 cards a (cold deck) with not 1 or 2 cards, for the estimations use Montecarlo with 10 million simulations."
      ]
    },
    {
      "cell_type": "code",
      "metadata": {
        "id": "P5DzfkDLfGrz"
      },
      "source": [
        "def cold_deck_gen(deck_size):\n",
        "  deck = []\n",
        "  for i in range(8):\n",
        "    deck.append(random.randint(3, deck_size))\n",
        "  return deck"
      ],
      "execution_count": 11,
      "outputs": []
    },
    {
      "cell_type": "code",
      "metadata": {
        "id": "f5MSki_aeYrX"
      },
      "source": [
        "def fixed_montecarlo_simulation2(n,deck_size):\n",
        "  win= 0\n",
        "  card_values = deckgen(deck_size,1)\n",
        "  card_numbers = deckgen(deck_size,0)\n",
        "  card_average = 0\n",
        "  for i in range(n):\n",
        "    hot_deck= [1,1,1,1,2,2,2,2]\n",
        "    cold_deck= cold_deck_gen(deck_size)\n",
        "    card_number = 0\n",
        "    random_deck = random.randint(1, 2)\n",
        "    if random_deck == 1:\n",
        "      deck = hot_deck\n",
        "    else:\n",
        "      deck = cold_deck\n",
        "    picked_cards = [7,7,5]\n",
        "    while(sum(picked_cards)<21):\n",
        "      card_number +=1\n",
        "      card = random.choice(deck)\n",
        "      picked_cards.append(card)\n",
        "      deck.remove(card)\n",
        "    if(sum(picked_cards)==21):\n",
        "      win+=1\n",
        "      card_numbers[card_number-1] += 1\n",
        "      card_average += card_number\n",
        "  print('Probability of getting a 21: ', win/n)\n",
        "  print('Card numbers ',card_numbers)\n",
        "  print('Average number of cards: ', card_average/win)\n",
        "  plt.bar(card_values,card_numbers);\n"
      ],
      "execution_count": 12,
      "outputs": []
    },
    {
      "cell_type": "markdown",
      "metadata": {
        "id": "tkQTBdHNjEb9"
      },
      "source": [
        "#####With a Spanish 48-card deck"
      ]
    },
    {
      "cell_type": "code",
      "metadata": {
        "colab": {
          "base_uri": "https://localhost:8080/",
          "height": 327
        },
        "id": "Cjf3Kf-TjH_3",
        "outputId": "e792b80e-3c22-422d-e5ab-8f61c4f597cc"
      },
      "source": [
        "fixed_montecarlo_simulation2(10000000,12)"
      ],
      "execution_count": 13,
      "outputs": [
        {
          "output_type": "stream",
          "text": [
            "Probability of getting a 21:  0.35701\n",
            "Card numbers  [2497945, 1072155, 0, 0, 0, 0, 0, 0, 0, 0, 0, 0]\n",
            "Average number of cards:  1.3003151172236072\n"
          ],
          "name": "stdout"
        },
        {
          "output_type": "display_data",
          "data": {
            "image/png": "[encoded data removed]",
            "text/plain": [
              "<Figure size 432x288 with 1 Axes>"
            ]
          },
          "metadata": {
            "tags": [],
            "needs_background": "light"
          }
        }
      ]
    },
    {
      "cell_type": "markdown",
      "metadata": {
        "id": "JVV50HUpi_yS"
      },
      "source": [
        "#####With an American 52-card deck\n"
      ]
    },
    {
      "cell_type": "code",
      "metadata": {
        "colab": {
          "base_uri": "https://localhost:8080/",
          "height": 327
        },
        "id": "IHQRYJ2RjJKj",
        "outputId": "d72da3c2-41ab-4d74-fd39-465689f93c56"
      },
      "source": [
        "fixed_montecarlo_simulation2(10000000,13)"
      ],
      "execution_count": 14,
      "outputs": [
        {
          "output_type": "stream",
          "text": [
            "Probability of getting a 21:  0.3571228\n",
            "Card numbers  [2500097, 1071131, 0, 0, 0, 0, 0, 0, 0, 0, 0, 0, 0]\n",
            "Average number of cards:  1.299933524266723\n"
          ],
          "name": "stdout"
        },
        {
          "output_type": "display_data",
          "data": {
            "image/png": "[encoded data removed]",
            "text/plain": [
              "<Figure size 432x288 with 1 Axes>"
            ]
          },
          "metadata": {
            "tags": [],
            "needs_background": "light"
          }
        }
      ]
    },
    {
      "cell_type": "markdown",
      "metadata": {
        "id": "lIrz9ff4i5H-"
      },
      "source": [
        "####4. Estimate the average amount of money (expected value) that Ben wins or losses on a weekend if Ben goes to Vegas every weekend (Friday, Saturday and Sunday), plays every weekend day 10 hours, each game takes 3 mins.\n",
        "\n",
        "####Assume that for each game he gets two possibilities: \n",
        "#####In one he gets in his hand the cards [7,7,5] and a remaining hot deck with 8 cards in which case he bets 1000USD this happens with probability 1/10\n",
        "\n",
        "#####In the other one he gets no cards in his hand a complete shuffled deck in which case he bets $10, this happens with the remaining probability 9/10. Use 10000 Montecarlo simulations to estimated the expected amount of money that Ben wins or losses on a weekend for the Spanish 48-card deck and for a Poker 52-card deck."
      ]
    },
    {
      "cell_type": "code",
      "metadata": {
        "id": "3nrBA8ZjkF1p"
      },
      "source": [
        "#   If ben plays 10 hours straight and each game takes 3 minutes\n",
        "#   it means 600min/3min = 200 games per day, with a total of\n",
        "#   600 games per weekend\n",
        "def ben_montecarlo(n,deck_size):\n",
        "  money = 0\n",
        "  for i in range(n):\n",
        "    for j in range(600):\n",
        "      random_choice = random.randint(1,10)\n",
        "      if random_choice == 1:\n",
        "        deck = [1,1,1,1,2,2,2,2]\n",
        "        picked_cards = [7,7,5]\n",
        "        while(sum(picked_cards)<21):\n",
        "          card = random.choice(deck)\n",
        "          picked_cards.append(card)\n",
        "          deck.remove(card)\n",
        "        if sum(picked_cards) == 21:\n",
        "          money += 1500\n",
        "        else:\n",
        "          money -= 1000\n",
        "      else:\n",
        "        deck = filldeck(deck_size)\n",
        "        picked_cards = []\n",
        "        while(sum(picked_cards)<21):\n",
        "          card = random.choice(deck)\n",
        "          picked_cards.append(card)\n",
        "          deck.remove(card)\n",
        "        if sum(picked_cards) == 21:\n",
        "          money += 15\n",
        "        else:\n",
        "          money -= 10\n",
        "  print('Money: ',money)"
      ],
      "execution_count": 15,
      "outputs": []
    },
    {
      "cell_type": "markdown",
      "metadata": {
        "id": "SlVSH-HWnng3"
      },
      "source": [
        "#####With a Spanish 48-card deck"
      ]
    },
    {
      "cell_type": "code",
      "metadata": {
        "colab": {
          "base_uri": "https://localhost:8080/"
        },
        "id": "DiL79HgPm0qT",
        "outputId": "2c93a34d-8412-4075-b041-12ce45620477"
      },
      "source": [
        "ben_montecarlo(10000,12)"
      ],
      "execution_count": 17,
      "outputs": [
        {
          "output_type": "stream",
          "text": [
            "Money:  438201970\n"
          ],
          "name": "stdout"
        }
      ]
    },
    {
      "cell_type": "markdown",
      "metadata": {
        "id": "4H_p3v3wnuh5"
      },
      "source": [
        "#####With an American 52-card deck\n"
      ]
    },
    {
      "cell_type": "code",
      "metadata": {
        "colab": {
          "base_uri": "https://localhost:8080/"
        },
        "id": "GyfefcJ1nu_s",
        "outputId": "ada48eee-2308-4018-d14e-5d5446a69ec3"
      },
      "source": [
        "ben_montecarlo(10000,13)"
      ],
      "execution_count": 18,
      "outputs": [
        {
          "output_type": "stream",
          "text": [
            "Money:  436238445\n"
          ],
          "name": "stdout"
        }
      ]
    }
  ]
}